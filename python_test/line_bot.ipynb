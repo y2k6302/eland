{
 "cells": [
  {
   "cell_type": "code",
   "execution_count": null,
   "metadata": {
    "collapsed": false
   },
   "outputs": [],
   "source": [
    "from flask import Flask, request, abort\n",
    "\n",
    "from linebot import (\n",
    "    LineBotApi, WebhookHandler\n",
    ")\n",
    "from linebot.exceptions import (\n",
    "    InvalidSignatureError\n",
    ")\n",
    "from linebot.models import (\n",
    "    MessageEvent, TextMessage, TextSendMessage,\n",
    ")\n",
    "\n",
    "app = Flask(__name__)\n",
    "@app.route(\"/\")\n",
    "def hello():\n",
    "    return \"Hello World!\"\n",
    "\n",
    "line_bot_api = LineBotApi('iyEIdGVWvCE0jLfchT4yUdUnbkbICdYYAPY4KZJcxolsM+/ZrNFddWbwwsz1FycNwtuE9os9hCDEWKE92ev60SSAlbJiDEEYKT3cnoq8KMTNtl21BfxwtRUj75jOt+/NUb0rbnN3JDrc6KExFjY/XgdB04t89/1O/w1cDnyilFU=')\n",
    "handler = WebhookHandler('06ca76670d35e267f0385e3e6907b78a')\n",
    "\n",
    "\n",
    "@app.route(\"/callback\", methods=['POST'])\n",
    "def callback():\n",
    "    # get X-Line-Signature header value\n",
    "    signature = request.headers['X-Line-Signature']\n",
    "\n",
    "    # get request body as text\n",
    "    body = request.get_data(as_text=True)\n",
    "    app.logger.info(\"Request body: \" + body)\n",
    "\n",
    "    # handle webhook body\n",
    "    try:\n",
    "        handler.handle(body, signature)\n",
    "    except InvalidSignatureError:\n",
    "        abort(400)\n",
    "\n",
    "    return 'OK'\n",
    "\n",
    "\n",
    "@handler.add(MessageEvent, message=TextMessage)\n",
    "def handle_message(event):\n",
    "    msg = event.message.text\n",
    "    print(msg)\n",
    "    msg = msg.encode('utf-8')\n",
    "    if msg==\"吳奐均\":\n",
    "        line_bot_api.reply_message(event.reply_token,TextSendMessage(text=\"汪汪叫\"))\n",
    "    if msg==\"洪佳吟\":\n",
    "        line_bot_api.reply_message(event.reply_token,TextSendMessage(text=\"小笨蛋\"))\n",
    "    if msg==\"秉鴻\":\n",
    "        line_bot_api.reply_message(event.reply_token,TextSendMessage(text=\"大大\"))\n",
    "    if msg==\"ian\":\n",
    "        line_bot_api.reply_message(event.reply_token,TextSendMessage(text=\"甚麼\"))\n",
    "    if msg==\"lillian_hong\":\n",
    "        line_bot_api.reply_message(event.reply_token,TextSendMessage(text=\"So cute\"))\n",
    "    else:\n",
    "        line_bot_api.reply_message(event.reply_token,TextSendMessage(text=event.message.text))\n",
    "\n",
    "if __name__ == \"__main__\":\n",
    "    app.run()"
   ]
  },
  {
   "cell_type": "code",
   "execution_count": 1,
   "metadata": {
    "collapsed": true
   },
   "outputs": [],
   "source": [
    "from flask import Flask\n",
    "app = Flask(__name__)\n",
    "@app.route(\"/\")\n",
    "def hello():\n",
    "    return \"Hello World!\"\n",
    "\n",
    "if __name__ == \"__main__\":\n",
    "    app.run()"
   ]
  },
  {
   "cell_type": "code",
   "execution_count": 26,
   "metadata": {
    "collapsed": false
   },
   "outputs": [
    {
     "name": "stdout",
     "output_type": "stream",
     "text": [
      "yes\n"
     ]
    }
   ],
   "source": [
    "s = '哈哈'\n",
    "if s==\"哈哈\":\n",
    "    print(\"yes\")"
   ]
  },
  {
   "cell_type": "code",
   "execution_count": null,
   "metadata": {
    "collapsed": true
   },
   "outputs": [],
   "source": []
  }
 ],
 "metadata": {
  "anaconda-cloud": {},
  "kernelspec": {
   "display_name": "Python [Root]",
   "language": "python",
   "name": "Python [Root]"
  },
  "language_info": {
   "codemirror_mode": {
    "name": "ipython",
    "version": 2
   },
   "file_extension": ".py",
   "mimetype": "text/x-python",
   "name": "python",
   "nbconvert_exporter": "python",
   "pygments_lexer": "ipython2",
   "version": "2.7.12"
  }
 },
 "nbformat": 4,
 "nbformat_minor": 0
}
