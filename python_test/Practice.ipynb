{
 "cells": [
  {
   "cell_type": "code",
   "execution_count": 95,
   "metadata": {
    "collapsed": false
   },
   "outputs": [],
   "source": [
    "def twoSum(nums,target):\n",
    "    d=[]\n",
    "    temp = nums[:]\n",
    "    for index in range(0,len(nums)):\n",
    "        select = target-nums[index]\n",
    "        temp.remove(nums[index])\n",
    "        if select in temp:\n",
    "            index2 = nums.index(select)\n",
    "            d = [index,index2]\n",
    "    return d"
   ]
  },
  {
   "cell_type": "code",
   "execution_count": 98,
   "metadata": {
    "collapsed": false
   },
   "outputs": [
    {
     "name": "stdout",
     "output_type": "stream",
     "text": [
      "[0, 0]\n"
     ]
    }
   ],
   "source": [
    "nums = [3,3,4,8]\n",
    "target = 6\n",
    "result = twoSum(nums,target)\n",
    "print result"
   ]
  },
  {
   "cell_type": "code",
   "execution_count": 99,
   "metadata": {
    "collapsed": false
   },
   "outputs": [
    {
     "name": "stdout",
     "output_type": "stream",
     "text": [
      "[3, 3, 4]\n",
      "3\n",
      "[3, 3, 4]\n",
      "3\n",
      "[3, 3, 4]\n",
      "2\n",
      "[0, 0]\n"
     ]
    }
   ],
   "source": [
    "nums = [3,3,4]\n",
    "target = 6\n",
    "d=[]\n",
    "temp = nums[:]\n",
    "for index in range(0,len(nums)):\n",
    "#     print index\n",
    "    print nums\n",
    "    select = target-nums[index]\n",
    "    print select\n",
    "    temp.remove(nums[index])\n",
    "    if select in temp:\n",
    "        index2 = nums.index(select)\n",
    "        d = [index,index2]\n",
    "        d.sort\n",
    "print d"
   ]
  },
  {
   "cell_type": "code",
   "execution_count": 59,
   "metadata": {
    "collapsed": false
   },
   "outputs": [
    {
     "name": "stdout",
     "output_type": "stream",
     "text": [
      "[1, 4, 8]\n"
     ]
    }
   ],
   "source": [
    "ss = [1,5,4,8]\n",
    "ss.remove(5)\n",
    "print ss"
   ]
  },
  {
   "cell_type": "code",
   "execution_count": 69,
   "metadata": {
    "collapsed": false
   },
   "outputs": [
    {
     "name": "stdout",
     "output_type": "stream",
     "text": [
      "[3, 5, 6, 6, 8, 18]\n",
      "9\n",
      "[]\n",
      "[3, 5, 6, 6, 8, 18]\n"
     ]
    }
   ],
   "source": [
    "nums = [5,6,8,3,18,6]\n",
    "nums2 = nums\n",
    "target = 12\n",
    "result = twoSum(nums,target)\n",
    "print result\n",
    "print nums2"
   ]
  },
  {
   "cell_type": "code",
   "execution_count": 100,
   "metadata": {
    "collapsed": false
   },
   "outputs": [
    {
     "name": "stdout",
     "output_type": "stream",
     "text": [
      "0 Alice\n",
      "1 Bob\n",
      "2 Cindy\n"
     ]
    }
   ],
   "source": [
    "names = ['Alice', 'Bob', 'Cindy']\n",
    "for index, element in enumerate(names):\n",
    "    print '%d %s' % (index, element)"
   ]
  },
  {
   "cell_type": "code",
   "execution_count": 101,
   "metadata": {
    "collapsed": false
   },
   "outputs": [
    {
     "name": "stdout",
     "output_type": "stream",
     "text": [
      "0 Alice\n",
      "1 Bob\n",
      "2 Cindy\n"
     ]
    }
   ],
   "source": [
    "for index,text in enumerate(names): \n",
    "    print index ,text"
   ]
  },
  {
   "cell_type": "code",
   "execution_count": 105,
   "metadata": {
    "collapsed": false
   },
   "outputs": [
    {
     "name": "stdout",
     "output_type": "stream",
     "text": [
      "[1, 2]\n"
     ]
    }
   ],
   "source": [
    "def twoSum(nums, target):\n",
    "    dic={}\n",
    "    for i in xrange(len(nums)):\n",
    "        if nums[i] not in dic:\n",
    "            dic[target-nums[i]]=i  # record difference between nums[i] and target as well as index of nums[i]\n",
    "        else:\n",
    "            return [dic[nums[i]],i]\n",
    "\n",
    "\n",
    "nums = [8,3,3]\n",
    "target = 6\n",
    "print twoSum(nums,target)"
   ]
  },
  {
   "cell_type": "code",
   "execution_count": 111,
   "metadata": {
    "collapsed": false
   },
   "outputs": [
    {
     "name": "stdout",
     "output_type": "stream",
     "text": [
      "{0: 'a', 5: '5'}\n",
      "a\n"
     ]
    }
   ],
   "source": [
    "d = {}\n",
    "d[0] = 'a'\n",
    "d[5] = '5'\n",
    "print d\n",
    "print d[0]"
   ]
  },
  {
   "cell_type": "code",
   "execution_count": 7,
   "metadata": {
    "collapsed": false
   },
   "outputs": [
    {
     "name": "stdout",
     "output_type": "stream",
     "text": [
      "'20160908/errorCount:4\\n'\n",
      "'20160909/errorCount:5\\n'\n",
      "'201609010/errorCount:3\\n'\n",
      "'20160908/errorCount:4\\n20160909/errorCount:5\\n201609010/errorCount:3\\n'\n",
      "20160908/errorCount:4\n",
      "20160909/errorCount:5\n",
      "201609010/errorCount:3\n",
      "\n"
     ]
    }
   ],
   "source": [
    "logString = ''\n",
    "with open('C:/Users/ytchen/Desktop/test.txt','r') as f:\n",
    "    for line in f.readlines():\n",
    "        logString += line\n",
    "        print repr(line)\n",
    "print repr(logString)\n",
    "print logString"
   ]
  },
  {
   "cell_type": "code",
   "execution_count": 16,
   "metadata": {
    "collapsed": false
   },
   "outputs": [
    {
     "ename": "NameError",
     "evalue": "name 'n' is not defined",
     "output_type": "error",
     "traceback": [
      "\u001b[1;31m---------------------------------------------------------------------------\u001b[0m",
      "\u001b[1;31mNameError\u001b[0m                                 Traceback (most recent call last)",
      "\u001b[1;32m<ipython-input-16-ba5cad9c3fa4>\u001b[0m in \u001b[0;36m<module>\u001b[1;34m()\u001b[0m\n\u001b[0;32m      4\u001b[0m \u001b[0mY\u001b[0m   \u001b[0mI\u001b[0m   \u001b[0mR\u001b[0m\u001b[1;33m\u001b[0m\u001b[0m\n\u001b[0;32m      5\u001b[0m '''\n\u001b[1;32m----> 6\u001b[1;33m \u001b[1;32mprint\u001b[0m \u001b[0ms\u001b[0m\u001b[1;33m.\u001b[0m\u001b[0mreplace\u001b[0m\u001b[1;33m(\u001b[0m\u001b[1;34m'\\n'\u001b[0m\u001b[1;33m,\u001b[0m\u001b[1;34m''\u001b[0m\u001b[1;33m,\u001b[0m\u001b[0mn\u001b[0m\u001b[1;33m)\u001b[0m\u001b[1;33m.\u001b[0m\u001b[0mreplace\u001b[0m\u001b[1;33m(\u001b[0m\u001b[1;34m' '\u001b[0m\u001b[1;33m,\u001b[0m\u001b[1;34m''\u001b[0m\u001b[1;33m)\u001b[0m\u001b[1;33m\u001b[0m\u001b[0m\n\u001b[0m",
      "\u001b[1;31mNameError\u001b[0m: name 'n' is not defined"
     ]
    }
   ],
   "source": [
    "s = '''\n",
    "P   A   H   N\n",
    "A P L S I I G\n",
    "Y   I   R\n",
    "'''\n",
    "print s.replace('\\n','',n).replace(' ','')"
   ]
  },
  {
   "cell_type": "code",
   "execution_count": null,
   "metadata": {
    "collapsed": true
   },
   "outputs": [],
   "source": []
  }
 ],
 "metadata": {
  "anaconda-cloud": {},
  "kernelspec": {
   "display_name": "Python [Root]",
   "language": "python",
   "name": "Python [Root]"
  },
  "language_info": {
   "codemirror_mode": {
    "name": "ipython",
    "version": 2
   },
   "file_extension": ".py",
   "mimetype": "text/x-python",
   "name": "python",
   "nbconvert_exporter": "python",
   "pygments_lexer": "ipython2",
   "version": "2.7.12"
  }
 },
 "nbformat": 4,
 "nbformat_minor": 0
}
